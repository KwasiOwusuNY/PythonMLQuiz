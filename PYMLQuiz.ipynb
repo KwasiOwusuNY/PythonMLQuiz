{
 "cells": [
  {
   "cell_type": "code",
   "execution_count": null,
   "id": "cd67879f-9b0e-4b14-9ba0-c09a100a3f3a",
   "metadata": {},
   "outputs": [],
   "source": [
    "#This is a more organized submission for the Python Machine Learning Quiz\n",
    "\n"
   ]
  },
  {
   "cell_type": "code",
   "execution_count": 2,
   "id": "51273d6f-3232-432d-b1f4-622700abe004",
   "metadata": {},
   "outputs": [],
   "source": [
    "import pandas as pd \n",
    "import numpy as np\n",
    "import matplotlib.pyplot as plt \n",
    "import seaborn as sns "
   ]
  },
  {
   "cell_type": "code",
   "execution_count": 3,
   "id": "56aac87f-ff41-407b-b652-4c92da2de3e7",
   "metadata": {},
   "outputs": [
    {
     "data": {
      "text/html": [
       "<div>\n",
       "<style scoped>\n",
       "    .dataframe tbody tr th:only-of-type {\n",
       "        vertical-align: middle;\n",
       "    }\n",
       "\n",
       "    .dataframe tbody tr th {\n",
       "        vertical-align: top;\n",
       "    }\n",
       "\n",
       "    .dataframe thead th {\n",
       "        text-align: right;\n",
       "    }\n",
       "</style>\n",
       "<table border=\"1\" class=\"dataframe\">\n",
       "  <thead>\n",
       "    <tr style=\"text-align: right;\">\n",
       "      <th></th>\n",
       "      <th>Area Code</th>\n",
       "      <th>Area</th>\n",
       "      <th>Item Code</th>\n",
       "      <th>Item</th>\n",
       "      <th>Element Code</th>\n",
       "      <th>Element</th>\n",
       "      <th>Unit</th>\n",
       "      <th>Y2014</th>\n",
       "      <th>Y2015</th>\n",
       "      <th>Y2016</th>\n",
       "      <th>Y2017</th>\n",
       "      <th>Y2018</th>\n",
       "    </tr>\n",
       "  </thead>\n",
       "  <tbody>\n",
       "    <tr>\n",
       "      <th>0</th>\n",
       "      <td>4</td>\n",
       "      <td>Algeria</td>\n",
       "      <td>2501</td>\n",
       "      <td>Population</td>\n",
       "      <td>511</td>\n",
       "      <td>Total Population - Both sexes</td>\n",
       "      <td>1000 persons</td>\n",
       "      <td>38924.00</td>\n",
       "      <td>39728.00</td>\n",
       "      <td>40551.00</td>\n",
       "      <td>41389.00</td>\n",
       "      <td>42228.00</td>\n",
       "    </tr>\n",
       "    <tr>\n",
       "      <th>1</th>\n",
       "      <td>4</td>\n",
       "      <td>Algeria</td>\n",
       "      <td>2501</td>\n",
       "      <td>Population</td>\n",
       "      <td>5301</td>\n",
       "      <td>Domestic supply quantity</td>\n",
       "      <td>1000 tonnes</td>\n",
       "      <td>0.00</td>\n",
       "      <td>0.00</td>\n",
       "      <td>0.00</td>\n",
       "      <td>0.00</td>\n",
       "      <td>0.00</td>\n",
       "    </tr>\n",
       "    <tr>\n",
       "      <th>2</th>\n",
       "      <td>4</td>\n",
       "      <td>Algeria</td>\n",
       "      <td>2901</td>\n",
       "      <td>Grand Total</td>\n",
       "      <td>664</td>\n",
       "      <td>Food supply (kcal/capita/day)</td>\n",
       "      <td>kcal/capita/day</td>\n",
       "      <td>3377.00</td>\n",
       "      <td>3379.00</td>\n",
       "      <td>3372.00</td>\n",
       "      <td>3341.00</td>\n",
       "      <td>3322.00</td>\n",
       "    </tr>\n",
       "    <tr>\n",
       "      <th>3</th>\n",
       "      <td>4</td>\n",
       "      <td>Algeria</td>\n",
       "      <td>2901</td>\n",
       "      <td>Grand Total</td>\n",
       "      <td>674</td>\n",
       "      <td>Protein supply quantity (g/capita/day)</td>\n",
       "      <td>g/capita/day</td>\n",
       "      <td>94.90</td>\n",
       "      <td>94.35</td>\n",
       "      <td>94.72</td>\n",
       "      <td>92.82</td>\n",
       "      <td>91.83</td>\n",
       "    </tr>\n",
       "    <tr>\n",
       "      <th>4</th>\n",
       "      <td>4</td>\n",
       "      <td>Algeria</td>\n",
       "      <td>2901</td>\n",
       "      <td>Grand Total</td>\n",
       "      <td>684</td>\n",
       "      <td>Fat supply quantity (g/capita/day)</td>\n",
       "      <td>g/capita/day</td>\n",
       "      <td>80.06</td>\n",
       "      <td>79.36</td>\n",
       "      <td>77.40</td>\n",
       "      <td>80.19</td>\n",
       "      <td>77.28</td>\n",
       "    </tr>\n",
       "    <tr>\n",
       "      <th>...</th>\n",
       "      <td>...</td>\n",
       "      <td>...</td>\n",
       "      <td>...</td>\n",
       "      <td>...</td>\n",
       "      <td>...</td>\n",
       "      <td>...</td>\n",
       "      <td>...</td>\n",
       "      <td>...</td>\n",
       "      <td>...</td>\n",
       "      <td>...</td>\n",
       "      <td>...</td>\n",
       "      <td>...</td>\n",
       "    </tr>\n",
       "    <tr>\n",
       "      <th>60938</th>\n",
       "      <td>181</td>\n",
       "      <td>Zimbabwe</td>\n",
       "      <td>2899</td>\n",
       "      <td>Miscellaneous</td>\n",
       "      <td>5142</td>\n",
       "      <td>Food</td>\n",
       "      <td>1000 tonnes</td>\n",
       "      <td>42.00</td>\n",
       "      <td>46.00</td>\n",
       "      <td>33.00</td>\n",
       "      <td>19.00</td>\n",
       "      <td>16.00</td>\n",
       "    </tr>\n",
       "    <tr>\n",
       "      <th>60939</th>\n",
       "      <td>181</td>\n",
       "      <td>Zimbabwe</td>\n",
       "      <td>2899</td>\n",
       "      <td>Miscellaneous</td>\n",
       "      <td>645</td>\n",
       "      <td>Food supply quantity (kg/capita/yr)</td>\n",
       "      <td>kg</td>\n",
       "      <td>3.06</td>\n",
       "      <td>3.33</td>\n",
       "      <td>2.35</td>\n",
       "      <td>1.33</td>\n",
       "      <td>1.08</td>\n",
       "    </tr>\n",
       "    <tr>\n",
       "      <th>60940</th>\n",
       "      <td>181</td>\n",
       "      <td>Zimbabwe</td>\n",
       "      <td>2899</td>\n",
       "      <td>Miscellaneous</td>\n",
       "      <td>664</td>\n",
       "      <td>Food supply (kcal/capita/day)</td>\n",
       "      <td>kcal/capita/day</td>\n",
       "      <td>3.00</td>\n",
       "      <td>4.00</td>\n",
       "      <td>3.00</td>\n",
       "      <td>1.00</td>\n",
       "      <td>1.00</td>\n",
       "    </tr>\n",
       "    <tr>\n",
       "      <th>60941</th>\n",
       "      <td>181</td>\n",
       "      <td>Zimbabwe</td>\n",
       "      <td>2899</td>\n",
       "      <td>Miscellaneous</td>\n",
       "      <td>674</td>\n",
       "      <td>Protein supply quantity (g/capita/day)</td>\n",
       "      <td>g/capita/day</td>\n",
       "      <td>0.10</td>\n",
       "      <td>0.11</td>\n",
       "      <td>0.08</td>\n",
       "      <td>0.04</td>\n",
       "      <td>0.04</td>\n",
       "    </tr>\n",
       "    <tr>\n",
       "      <th>60942</th>\n",
       "      <td>181</td>\n",
       "      <td>Zimbabwe</td>\n",
       "      <td>2899</td>\n",
       "      <td>Miscellaneous</td>\n",
       "      <td>684</td>\n",
       "      <td>Fat supply quantity (g/capita/day)</td>\n",
       "      <td>g/capita/day</td>\n",
       "      <td>0.04</td>\n",
       "      <td>0.05</td>\n",
       "      <td>0.03</td>\n",
       "      <td>0.02</td>\n",
       "      <td>0.01</td>\n",
       "    </tr>\n",
       "  </tbody>\n",
       "</table>\n",
       "<p>60943 rows × 12 columns</p>\n",
       "</div>"
      ],
      "text/plain": [
       "       Area Code      Area  Item Code           Item  Element Code  \\\n",
       "0              4   Algeria       2501     Population           511   \n",
       "1              4   Algeria       2501     Population          5301   \n",
       "2              4   Algeria       2901    Grand Total           664   \n",
       "3              4   Algeria       2901    Grand Total           674   \n",
       "4              4   Algeria       2901    Grand Total           684   \n",
       "...          ...       ...        ...            ...           ...   \n",
       "60938        181  Zimbabwe       2899  Miscellaneous          5142   \n",
       "60939        181  Zimbabwe       2899  Miscellaneous           645   \n",
       "60940        181  Zimbabwe       2899  Miscellaneous           664   \n",
       "60941        181  Zimbabwe       2899  Miscellaneous           674   \n",
       "60942        181  Zimbabwe       2899  Miscellaneous           684   \n",
       "\n",
       "                                      Element             Unit     Y2014  \\\n",
       "0               Total Population - Both sexes     1000 persons  38924.00   \n",
       "1                    Domestic supply quantity      1000 tonnes      0.00   \n",
       "2               Food supply (kcal/capita/day)  kcal/capita/day   3377.00   \n",
       "3      Protein supply quantity (g/capita/day)     g/capita/day     94.90   \n",
       "4          Fat supply quantity (g/capita/day)     g/capita/day     80.06   \n",
       "...                                       ...              ...       ...   \n",
       "60938                                    Food      1000 tonnes     42.00   \n",
       "60939     Food supply quantity (kg/capita/yr)               kg      3.06   \n",
       "60940           Food supply (kcal/capita/day)  kcal/capita/day      3.00   \n",
       "60941  Protein supply quantity (g/capita/day)     g/capita/day      0.10   \n",
       "60942      Fat supply quantity (g/capita/day)     g/capita/day      0.04   \n",
       "\n",
       "          Y2015     Y2016     Y2017     Y2018  \n",
       "0      39728.00  40551.00  41389.00  42228.00  \n",
       "1          0.00      0.00      0.00      0.00  \n",
       "2       3379.00   3372.00   3341.00   3322.00  \n",
       "3         94.35     94.72     92.82     91.83  \n",
       "4         79.36     77.40     80.19     77.28  \n",
       "...         ...       ...       ...       ...  \n",
       "60938     46.00     33.00     19.00     16.00  \n",
       "60939      3.33      2.35      1.33      1.08  \n",
       "60940      4.00      3.00      1.00      1.00  \n",
       "60941      0.11      0.08      0.04      0.04  \n",
       "60942      0.05      0.03      0.02      0.01  \n",
       "\n",
       "[60943 rows x 12 columns]"
      ]
     },
     "execution_count": 3,
     "metadata": {},
     "output_type": "execute_result"
    }
   ],
   "source": [
    "df = pd.read_csv('FoodBalanceSheets_E_Africa_NOFLAG.csv', encoding='latin-1')\n",
    "df"
   ]
  },
  {
   "cell_type": "code",
   "execution_count": 4,
   "id": "aa7386fc-1c42-4405-ad16-f127470ca1bd",
   "metadata": {},
   "outputs": [
    {
     "data": {
      "text/plain": [
       "49"
      ]
     },
     "execution_count": 4,
     "metadata": {},
     "output_type": "execute_result"
    }
   ],
   "source": [
    "#Question1\n",
    "len(df['Area'].value_counts())\n"
   ]
  },
  {
   "cell_type": "code",
   "execution_count": 5,
   "id": "ba594aaa-a9f8-4f43-97a4-bd32c71b2c70",
   "metadata": {},
   "outputs": [
    {
     "data": {
      "text/plain": [
       "'Guinea-Bissau'"
      ]
     },
     "execution_count": 5,
     "metadata": {},
     "output_type": "execute_result"
    }
   ],
   "source": [
    "#Question2\n",
    "x = df.groupby('Area')['Y2017'].sum().sort_values(ascending = True)\n",
    "x.index[6]\n"
   ]
  },
  {
   "cell_type": "code",
   "execution_count": 6,
   "id": "66c2af1b-b477-402e-920f-0d04f02dead3",
   "metadata": {},
   "outputs": [
    {
     "data": {
      "text/plain": [
       "140.92"
      ]
     },
     "execution_count": 6,
     "metadata": {},
     "output_type": "execute_result"
    }
   ],
   "source": [
    "#Question5\n",
    "df['Y2017'].mean().round(2)"
   ]
  },
  {
   "cell_type": "code",
   "execution_count": 7,
   "id": "0f6df97a-4dfe-4a3e-8444-fc8ac2799cae",
   "metadata": {},
   "outputs": [
    {
     "data": {
      "text/plain": [
       "1671.86"
      ]
     },
     "execution_count": 7,
     "metadata": {},
     "output_type": "execute_result"
    }
   ],
   "source": [
    "round(df['Y2017'].std(),2)"
   ]
  },
  {
   "cell_type": "code",
   "execution_count": 8,
   "id": "f3a60112-6196-4d70-a882-0321d7ec86a5",
   "metadata": {},
   "outputs": [
    {
     "data": {
      "text/plain": [
       "Area\n",
       "Nigeria                        1483268.23\n",
       "Egypt                           866379.92\n",
       "South Africa                    517590.54\n",
       "Ethiopia                        448683.76\n",
       "Morocco                         388495.36\n",
       "Ghana                           337599.06\n",
       "Algeria                         325644.27\n",
       "United Republic of Tanzania     322616.85\n",
       "Kenya                           264660.66\n",
       "Sudan                           239931.92\n",
       "Cameroon                        232030.43\n",
       "Angola                          229159.57\n",
       "Côte d'Ivoire                   224599.01\n",
       "Uganda                          213950.38\n",
       "Malawi                          181098.71\n",
       "Mozambique                      161407.98\n",
       "Mauritania                      156665.46\n",
       "Mali                            149928.33\n",
       "Madagascar                      131197.73\n",
       "Niger                           126707.58\n",
       "Benin                           124771.22\n",
       "Tunisia                         124167.20\n",
       "Zambia                          103223.77\n",
       "Burkina Faso                    101855.07\n",
       "Guinea                           98138.87\n",
       "Senegal                          95681.15\n",
       "Zimbabwe                         75919.34\n",
       "Rwanda                           73663.69\n",
       "Chad                             71594.68\n",
       "Sierra Leone                     55311.33\n",
       "Eswatini                         54343.33\n",
       "Mauritius                        51114.83\n",
       "Togo                             49841.88\n",
       "Congo                            41181.68\n",
       "Central African Republic         29937.00\n",
       "Namibia                          29874.89\n",
       "Liberia                          29342.20\n",
       "Gabon                            27979.64\n",
       "Gambia                           23154.18\n",
       "Djibouti                         22729.91\n",
       "Botswana                         22101.30\n",
       "Lesotho                          21267.96\n",
       "Guinea-Bissau                    19102.77\n",
       "Cabo Verde                       14650.74\n",
       "Sao Tome and Principe            12662.63\n",
       "Seychelles                         442.34\n",
       "Comoros                             59.84\n",
       "Ethiopia PDR                         0.00\n",
       "Sudan (former)                       0.00\n",
       "Name: Y2017, dtype: float64"
      ]
     },
     "execution_count": 8,
     "metadata": {},
     "output_type": "execute_result"
    }
   ],
   "source": [
    "#Question7\n",
    "df.groupby('Area')['Y2017'].sum().sort_values(ascending=False)"
   ]
  },
  {
   "cell_type": "code",
   "execution_count": 9,
   "id": "7abfcd61-fdfd-4754-a0a2-06fb55524483",
   "metadata": {},
   "outputs": [
    {
     "data": {
      "text/plain": [
       "Area Code                                                  571566\n",
       "Area            AlgeriaAlgeriaAlgeriaAlgeriaAlgeriaAlgeriaAlge...\n",
       "Item Code                                                11329527\n",
       "Item            Cereals - Excluding BeerWheat and productsRice...\n",
       "Element Code                                             21464704\n",
       "Unit            1000 tonnes1000 tonnes1000 tonnes1000 tonnes10...\n",
       "Y2014                                                    58749.83\n",
       "Y2015                                                    34910.99\n",
       "Y2016                                                    33140.12\n",
       "Y2017                                                    54316.91\n",
       "Y2018                                                    20577.91\n",
       "Name: Stock Variation, dtype: object"
      ]
     },
     "execution_count": 9,
     "metadata": {},
     "output_type": "execute_result"
    }
   ],
   "source": [
    "#Question10\n",
    "stock_max = df.groupby('Element').sum()\n",
    "stock_max.iloc[15]"
   ]
  },
  {
   "cell_type": "code",
   "execution_count": 10,
   "id": "3a9b9257-27d0-4f0e-b553-1bf47de983db",
   "metadata": {},
   "outputs": [
    {
     "data": {
      "text/plain": [
       "1589"
      ]
     },
     "execution_count": 10,
     "metadata": {},
     "output_type": "execute_result"
    }
   ],
   "source": [
    "#Question11\n",
    "df['Y2014'].isnull().sum()"
   ]
  },
  {
   "cell_type": "code",
   "execution_count": 11,
   "id": "3bad9d5c-44d4-4623-9067-906dd8cc8352",
   "metadata": {},
   "outputs": [
    {
     "name": "stdout",
     "output_type": "stream",
     "text": [
      "%: 2.607\n"
     ]
    }
   ],
   "source": [
    "print('%:',((df['Y2014'].isnull().sum()/len(df['Y2014']))*100).round(3))"
   ]
  },
  {
   "cell_type": "code",
   "execution_count": 50,
   "id": "f2143547-67a3-493c-bb9f-3fb20154ee13",
   "metadata": {},
   "outputs": [
    {
     "data": {
      "text/plain": [
       "Element\n",
       "Domestic supply quantity                  119\n",
       "Import Quantity                           111\n",
       "Food supply (kcal/capita/day)             111\n",
       "Protein supply quantity (g/capita/day)    111\n",
       "Fat supply quantity (g/capita/day)        111\n",
       "Food supply quantity (kg/capita/yr)       110\n",
       "Food                                      110\n",
       "Production                                110\n",
       "Residuals                                 105\n",
       "Export Quantity                           104\n",
       "Stock Variation                            98\n",
       "Processing                                 76\n",
       "Losses                                     55\n",
       "Other uses (non-food)                      51\n",
       "Feed                                       35\n",
       "Seed                                       21\n",
       "Total Population - Both sexes               1\n",
       "Name: count, dtype: int64"
      ]
     },
     "execution_count": 50,
     "metadata": {},
     "output_type": "execute_result"
    }
   ],
   "source": [
    "#Question14"
   ]
  },
  {
   "cell_type": "code",
   "execution_count": 51,
   "id": "e5f35689-c1f2-4861-840c-5f7750248b8c",
   "metadata": {},
   "outputs": [
    {
     "data": {
      "text/plain": [
       "Item\n",
       "Alcohol, Non-Food                     2180.00\n",
       "Alcoholic Beverages                  98783.72\n",
       "Animal Products                      11811.73\n",
       "Animal fats                         200675.72\n",
       "Apples and products                  10559.15\n",
       "Aquatic Animals, Others                  9.26\n",
       "Aquatic Plants                         631.23\n",
       "Aquatic Products, Other                638.42\n",
       "Bananas                              55046.76\n",
       "Barley and products                  29153.44\n",
       "Beans                                20315.77\n",
       "Beer                                 42053.67\n",
       "Beverages, Alcoholic                  2818.38\n",
       "Beverages, Fermented                 47447.92\n",
       "Bovine Meat                          22766.42\n",
       "Butter, Ghee                          1165.69\n",
       "Cassava and products                410235.89\n",
       "Cephalopods                            496.95\n",
       "Cereals - Excluding Beer            845669.36\n",
       "Cereals, Other                       18912.55\n",
       "Citrus, Other                        15188.91\n",
       "Cloves                                  77.29\n",
       "Cocoa Beans and products              7671.59\n",
       "Coconut Oil                            556.18\n",
       "Coconuts - Incl Copra                 6646.28\n",
       "Coffee and products                   3849.99\n",
       "Cottonseed                            7998.00\n",
       "Cottonseed Oil                        1507.90\n",
       "Cream                                  233.37\n",
       "Crustaceans                            732.86\n",
       "Dates                                11108.74\n",
       "Demersal Fish                         6123.88\n",
       "Eggs                                 21431.48\n",
       "Fats, Animals, Raw                    1729.80\n",
       "Fish, Body Oil                         193.73\n",
       "Fish, Liver Oil                          6.36\n",
       "Fish, Seafood                        43293.41\n",
       "Freshwater Fish                      13195.86\n",
       "Fruits - Excluding Wine             282857.19\n",
       "Fruits, Other                        57504.33\n",
       "Grand Total                         118937.92\n",
       "Grapefruit and products               2352.21\n",
       "Grapes and products (excl wine)      14607.88\n",
       "Groundnut Oil                         5561.17\n",
       "Groundnuts (Shelled Eq)              42199.35\n",
       "Honey                                  713.12\n",
       "Infant food                            340.38\n",
       "Lemons, Limes and products            3667.51\n",
       "Maize Germ Oil                         950.64\n",
       "Maize and products                  287659.14\n",
       "Marine Fish, Other                    3153.59\n",
       "Meat                                 66042.60\n",
       "Meat, Other                           5287.66\n",
       "Milk - Excluding Butter             266446.14\n",
       "Millet and products                  40459.94\n",
       "Miscellaneous                         6803.24\n",
       "Molluscs, Other                        134.91\n",
       "Mutton & Goat Meat                    9625.44\n",
       "Nuts and products                     6939.31\n",
       "Oats                                   930.02\n",
       "Offals                                7841.07\n",
       "Offals, Edible                        7841.07\n",
       "Oilcrops                            163097.03\n",
       "Oilcrops Oil, Other                   5398.90\n",
       "Oilcrops, Other                       6584.80\n",
       "Olive Oil                             1711.65\n",
       "Olives (including preserved)         12547.69\n",
       "Onions                               36973.65\n",
       "Oranges, Mandarines                  33421.50\n",
       "Palm Oil                             27229.24\n",
       "Palm kernels                         52524.00\n",
       "Palmkernel Oil                        1408.94\n",
       "Peas                                  2472.35\n",
       "Pelagic Fish                         19838.14\n",
       "Pepper                                 137.04\n",
       "Pigmeat                               5914.61\n",
       "Pimento                               2754.14\n",
       "Pineapples and products              14276.56\n",
       "Plantains                            65037.18\n",
       "Population                         1058081.00\n",
       "Potatoes and products                78655.23\n",
       "Poultry Meat                         22440.36\n",
       "Pulses                               59361.19\n",
       "Pulses, Other and products           36569.14\n",
       "Rape and Mustard Oil                   312.38\n",
       "Rape and Mustardseed                   663.00\n",
       "Rice and products                   150657.00\n",
       "Ricebran Oil                             0.00\n",
       "Roots, Other                         42757.91\n",
       "Rye and products                       428.14\n",
       "Sesame seed                           6769.62\n",
       "Sesameseed Oil                         587.58\n",
       "Sorghum and products                 82725.53\n",
       "Soyabean Oil                         10381.77\n",
       "Soyabeans                            16412.47\n",
       "Spices                                5059.08\n",
       "Spices, Other                         2068.57\n",
       "Starchy Roots                       802578.22\n",
       "Stimulants                           14180.97\n",
       "Sugar & Sweeteners                   80214.74\n",
       "Sugar (Raw Equivalent)               70675.27\n",
       "Sugar Crops                         317423.30\n",
       "Sugar beet                           47240.00\n",
       "Sugar cane                          270179.30\n",
       "Sugar non-centrifugal                  230.85\n",
       "Sunflower seed                       10686.98\n",
       "Sunflowerseed Oil                     4986.00\n",
       "Sweet potatoes                       67762.36\n",
       "Sweeteners, Other                     8593.45\n",
       "Tea (including mate)                  2627.37\n",
       "Tomatoes and products                68981.37\n",
       "Treenuts                              6939.31\n",
       "Vegetable Oils                       60659.38\n",
       "Vegetables                          264068.13\n",
       "Vegetables, Other                   158104.08\n",
       "Vegetal Products                    107064.17\n",
       "Wheat and products                  234710.51\n",
       "Wine                                  4251.81\n",
       "Yams                                203151.78\n",
       "Name: Y2015, dtype: float64"
      ]
     },
     "execution_count": 51,
     "metadata": {},
     "output_type": "execute_result"
    }
   ],
   "source": [
    "#Question17\n",
    "df.groupby('Item')['Y2015'].sum()"
   ]
  },
  {
   "cell_type": "code",
   "execution_count": 14,
   "id": "857e6e02-c5db-4854-b45d-b7e939d390fe",
   "metadata": {},
   "outputs": [
    {
     "data": {
      "text/plain": [
       "Item\n",
       "Alcohol, Non-Food        2293.00\n",
       "Alcoholic Beverages     97847.27\n",
       "Animal Products         11578.61\n",
       "Animal fats            269648.27\n",
       "Apples and products      9640.51\n",
       "                         ...    \n",
       "Vegetables, Other      163987.21\n",
       "Vegetal Products       107775.39\n",
       "Wheat and products     242645.19\n",
       "Wine                     4039.32\n",
       "Yams                   221272.09\n",
       "Name: Y2018, Length: 119, dtype: float64"
      ]
     },
     "execution_count": 14,
     "metadata": {},
     "output_type": "execute_result"
    }
   ],
   "source": [
    "df.groupby('Item')['Y2018'].sum()"
   ]
  },
  {
   "cell_type": "code",
   "execution_count": 15,
   "id": "d51b9932-3c85-44af-9eae-5e7925edd7e5",
   "metadata": {},
   "outputs": [
    {
     "data": {
      "text/plain": [
       "Y2014    0.024457\n",
       "Y2015    0.023889\n",
       "Y2016    0.023444\n",
       "Y2017    0.024254\n",
       "Y2018    0.024279\n",
       "dtype: float64"
      ]
     },
     "execution_count": 15,
     "metadata": {},
     "output_type": "execute_result"
    }
   ],
   "source": [
    "#Question18\n",
    "df[['Y2014','Y2015','Y2016','Y2017','Y2018']].corrwith(df['Element Code'])"
   ]
  },
  {
   "cell_type": "code",
   "execution_count": 16,
   "id": "b30cf11b-71b6-413a-91e6-9f950f0d6e15",
   "metadata": {},
   "outputs": [
    {
     "data": {
      "text/plain": [
       "Element\n",
       "Domestic supply quantity                  2088198.10\n",
       "Export Quantity                            182338.80\n",
       "Fat supply quantity (g/capita/day)          10253.84\n",
       "Feed                                       223705.68\n",
       "Food                                      1258888.28\n",
       "Food supply (kcal/capita/day)              454681.00\n",
       "Food supply quantity (kg/capita/yr)         48690.04\n",
       "Import Quantity                            294559.09\n",
       "Losses                                     160614.00\n",
       "Other uses (non-food)                       91645.97\n",
       "Processing                                 292836.00\n",
       "Production                                2030056.89\n",
       "Protein supply quantity (g/capita/day)      11842.45\n",
       "Residuals                                   35500.00\n",
       "Seed                                        24870.14\n",
       "Stock Variation                             54316.91\n",
       "Total Population - Both sexes             1112641.00\n",
       "Tourist consumption                            91.00\n",
       "Name: Y2017, dtype: float64"
      ]
     },
     "execution_count": 16,
     "metadata": {},
     "output_type": "execute_result"
    }
   ],
   "source": [
    "#Question20\n",
    "df.groupby('Element')['Y2017'].sum()\n"
   ]
  },
  {
   "cell_type": "raw",
   "id": "b298eb57-3d96-493b-8438-91554586fbb4",
   "metadata": {},
   "source": []
  }
 ],
 "metadata": {
  "kernelspec": {
   "display_name": "Python 3 (ipykernel)",
   "language": "python",
   "name": "python3"
  },
  "language_info": {
   "codemirror_mode": {
    "name": "ipython",
    "version": 3
   },
   "file_extension": ".py",
   "mimetype": "text/x-python",
   "name": "python",
   "nbconvert_exporter": "python",
   "pygments_lexer": "ipython3",
   "version": "3.11.7"
  }
 },
 "nbformat": 4,
 "nbformat_minor": 5
}
